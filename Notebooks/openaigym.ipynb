{
 "cells": [
  {
   "cell_type": "code",
   "execution_count": 5,
   "metadata": {},
   "outputs": [],
   "source": [
    "import gymnasium as gym\n",
    "import matplotlib.pyplot as plt\n",
    "from IPython import display as ipythondisplay"
   ]
  },
  {
   "cell_type": "code",
   "execution_count": 14,
   "metadata": {},
   "outputs": [
    {
     "name": "stderr",
     "output_type": "stream",
     "text": [
      "/Users/ram/miniforge3/envs/RLHW1/lib/python3.10/site-packages/gymnasium/envs/registration.py:513: DeprecationWarning: \u001b[33mWARN: The environment CartPole-v0 is out of date. You should consider upgrading to version `v1`.\u001b[0m\n",
      "  logger.deprecation(\n"
     ]
    }
   ],
   "source": [
    "env = gym.make('CartPole-v0')"
   ]
  },
  {
   "cell_type": "code",
   "execution_count": 17,
   "metadata": {},
   "outputs": [
    {
     "name": "stdout",
     "output_type": "stream",
     "text": [
      "Initial state:  (array([ 0.02576886, -0.00981337,  0.01782382,  0.01764753], dtype=float32), {})\n",
      "Action space:  Discrete(2)\n",
      "1\n"
     ]
    }
   ],
   "source": [
    "state = env.reset()\n",
    "prev_screen = env.render()\n",
    "\n",
    "print(\"Initial state: \", state)\n",
    "print(\"Action space: \", env.action_space)\n",
    "print(env.action_space.sample())"
   ]
  },
  {
   "cell_type": "code",
   "execution_count": 19,
   "metadata": {},
   "outputs": [
    {
     "ename": "ValueError",
     "evalue": "too many values to unpack (expected 4)",
     "output_type": "error",
     "traceback": [
      "\u001b[0;31m---------------------------------------------------------------------------\u001b[0m",
      "\u001b[0;31mValueError\u001b[0m                                Traceback (most recent call last)",
      "Cell \u001b[0;32mIn[19], line 9\u001b[0m\n\u001b[1;32m      7\u001b[0m \u001b[38;5;28;01mfor\u001b[39;00m i \u001b[38;5;129;01min\u001b[39;00m \u001b[38;5;28mrange\u001b[39m(\u001b[38;5;241m200\u001b[39m): \u001b[38;5;66;03m# Take 200 actions\u001b[39;00m\n\u001b[1;32m      8\u001b[0m   action \u001b[38;5;241m=\u001b[39m policy(state)\n\u001b[0;32m----> 9\u001b[0m   new_state, reward, done, info \u001b[38;5;241m=\u001b[39m env\u001b[38;5;241m.\u001b[39mstep(action)    \u001b[38;5;66;03m#Stepping through the env\u001b[39;00m\n\u001b[1;32m     12\u001b[0m   \u001b[38;5;66;03m# AT THIS POINT you have (state, action, reward, new_state, done)\u001b[39;00m\n\u001b[1;32m     13\u001b[0m \n\u001b[1;32m     14\u001b[0m \n\u001b[1;32m     15\u001b[0m   \u001b[38;5;66;03m#### Display Code in Jupyter Notebook ####\u001b[39;00m\n\u001b[1;32m     16\u001b[0m   screen \u001b[38;5;241m=\u001b[39m env\u001b[38;5;241m.\u001b[39mrender(mode\u001b[38;5;241m=\u001b[39m\u001b[38;5;124m'\u001b[39m\u001b[38;5;124mrgb_array\u001b[39m\u001b[38;5;124m'\u001b[39m)\n",
      "\u001b[0;31mValueError\u001b[0m: too many values to unpack (expected 4)"
     ]
    }
   ],
   "source": [
    "def policy(state):\n",
    "    # state unused for this example\n",
    "    return env.action_space.sample() # Taking a random action\n",
    "\n",
    "\n",
    "state = env.reset() # Resets to start state\n",
    "for i in range(200): # Take 200 actions\n",
    "  action = policy(state)\n",
    "  new_state, reward, done, info = env.step(action)    #Stepping through the env\n",
    "\n",
    "\n",
    "  # AT THIS POINT you have (state, action, reward, new_state, done)\n",
    "\n",
    "\n",
    "  #### Display Code in Jupyter Notebook ####\n",
    "  screen = env.render(mode='rgb_array')\n",
    "  plt.imshow(screen)\n",
    "  ipythondisplay.clear_output(wait=True)\n",
    "  ipythondisplay.display(plt.gcf())\n",
    "  ######################\n",
    "\n",
    "  #### Display Code for Normal Python Script ####\n",
    "  # env.render()\n",
    "  # time.sleep(0.02)\n",
    "  ######################\n",
    "\n",
    "\n",
    "  state = new_state                                   #Setting state to new_state before moving on to the next iteration\n",
    "\n",
    "  if done:\n",
    "    break\n",
    "\n",
    "\n",
    "#### Display Code ####\n",
    "ipythondisplay.clear_output(wait=True)\n",
    "env.close()\n",
    "######################\n"
   ]
  },
  {
   "cell_type": "code",
   "execution_count": 20,
   "metadata": {},
   "outputs": [
    {
     "ename": "ModuleNotFoundError",
     "evalue": "No module named 'gym'",
     "output_type": "error",
     "traceback": [
      "\u001b[0;31m---------------------------------------------------------------------------\u001b[0m",
      "\u001b[0;31mModuleNotFoundError\u001b[0m                       Traceback (most recent call last)",
      "Cell \u001b[0;32mIn[20], line 2\u001b[0m\n\u001b[1;32m      1\u001b[0m \u001b[38;5;66;03m##### Non-Jupyter Notebook Code #####\u001b[39;00m\n\u001b[0;32m----> 2\u001b[0m \u001b[38;5;28;01mimport\u001b[39;00m \u001b[38;5;21;01mgym\u001b[39;00m\n\u001b[1;32m      3\u001b[0m \u001b[38;5;28;01mimport\u001b[39;00m \u001b[38;5;21;01mnumpy\u001b[39;00m \u001b[38;5;28;01mas\u001b[39;00m \u001b[38;5;21;01mnp\u001b[39;00m\n\u001b[1;32m      4\u001b[0m \u001b[38;5;28;01mimport\u001b[39;00m \u001b[38;5;21;01mtime\u001b[39;00m\n",
      "\u001b[0;31mModuleNotFoundError\u001b[0m: No module named 'gym'"
     ]
    }
   ],
   "source": [
    "##### Non-Jupyter Notebook Code #####\n",
    "import gym\n",
    "import numpy as np\n",
    "import time\n",
    "\n",
    "env = gym.make(\"CartPole-v1\")\n",
    "\n",
    "state = env.reset()\n",
    "\n",
    "def policy(state):\n",
    "    # state unused for this example\n",
    "    return env.action_space.sample()                  #Taking a random action\n",
    "\n",
    "while True: # Some stopping condition here, i.e. number of episodes\n",
    "  print(\"Reset\")\n",
    "  state = env.reset()\n",
    "  for i in range(100):\n",
    "    action = policy(state)\n",
    "    new_state, reward, done, info = env.step(action)    #Stepping through the env\n",
    "\n",
    "    # AT THIS POINT you have (state, action, reward, new_state, done)\n",
    "\n",
    "    #### Display Code in Jupyter Notebook ####\n",
    "    env.render()\n",
    "    time.sleep(0.02)                                    # Slow down for our eyes to process\n",
    "    ######################\n",
    "\n",
    "    state = new_state                                   #Setting state to new_state before moving on to the next iteration\n",
    "\n",
    "    if done:\n",
    "      break\n",
    "\n",
    "env.close()"
   ]
  },
  {
   "cell_type": "code",
   "execution_count": 21,
   "metadata": {},
   "outputs": [],
   "source": [
    "display.stop()"
   ]
  },
  {
   "cell_type": "code",
   "execution_count": 25,
   "metadata": {},
   "outputs": [
    {
     "name": "stdout",
     "output_type": "stream",
     "text": [
      "CartPole-v0\n",
      "CartPole-v1\n",
      "MountainCar-v0\n",
      "MountainCarContinuous-v0\n",
      "Pendulum-v1\n",
      "Acrobot-v1\n",
      "phys2d/CartPole-v0\n",
      "phys2d/CartPole-v1\n",
      "phys2d/Pendulum-v0\n",
      "LunarLander-v2\n",
      "LunarLanderContinuous-v2\n",
      "BipedalWalker-v3\n",
      "BipedalWalkerHardcore-v3\n",
      "CarRacing-v2\n",
      "Blackjack-v1\n",
      "FrozenLake-v1\n",
      "FrozenLake8x8-v1\n",
      "CliffWalking-v0\n",
      "Taxi-v3\n",
      "tabular/Blackjack-v0\n",
      "tabular/CliffWalking-v0\n",
      "Reacher-v2\n",
      "Reacher-v4\n",
      "Pusher-v2\n",
      "Pusher-v4\n",
      "InvertedPendulum-v2\n",
      "InvertedPendulum-v4\n",
      "InvertedDoublePendulum-v2\n",
      "InvertedDoublePendulum-v4\n",
      "HalfCheetah-v2\n",
      "HalfCheetah-v3\n",
      "HalfCheetah-v4\n",
      "Hopper-v2\n",
      "Hopper-v3\n",
      "Hopper-v4\n",
      "Swimmer-v2\n",
      "Swimmer-v3\n",
      "Swimmer-v4\n",
      "Walker2d-v2\n",
      "Walker2d-v3\n",
      "Walker2d-v4\n",
      "Ant-v2\n",
      "Ant-v3\n",
      "Ant-v4\n",
      "Humanoid-v2\n",
      "Humanoid-v3\n",
      "Humanoid-v4\n",
      "HumanoidStandup-v2\n",
      "HumanoidStandup-v4\n",
      "GymV21Environment-v0\n",
      "GymV26Environment-v0\n"
     ]
    }
   ],
   "source": [
    "from gymnasium import envs\n",
    "for e in envs.registry:\n",
    "    print(e)"
   ]
  }
 ],
 "metadata": {
  "kernelspec": {
   "display_name": "RLHW1",
   "language": "python",
   "name": "python3"
  },
  "language_info": {
   "codemirror_mode": {
    "name": "ipython",
    "version": 3
   },
   "file_extension": ".py",
   "mimetype": "text/x-python",
   "name": "python",
   "nbconvert_exporter": "python",
   "pygments_lexer": "ipython3",
   "version": "3.10.12"
  }
 },
 "nbformat": 4,
 "nbformat_minor": 2
}
